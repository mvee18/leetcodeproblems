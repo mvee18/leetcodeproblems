{
 "cells": [
  {
   "cell_type": "code",
   "execution_count": 1,
   "metadata": {},
   "outputs": [],
   "source": [
    "from typing import List"
   ]
  },
  {
   "cell_type": "code",
   "execution_count": 15,
   "metadata": {},
   "outputs": [],
   "source": [
    "class Solution:\n",
    "    def groupAnagrams(self, strs: List[str]) -> List[List[str]]:\n",
    "        anagram_dict = {}\n",
    "        for s in strs:\n",
    "            charDict = {}\n",
    "            for c in s:\n",
    "                charDict[c] = charDict.get(c, 0) + 1\n",
    "\n",
    "            anagram_dict[s].append(charDict)\n",
    "\n",
    "        print(anagram_dict)\n"
   ]
  },
  {
   "attachments": {},
   "cell_type": "markdown",
   "metadata": {},
   "source": [
    "# Tests"
   ]
  },
  {
   "cell_type": "code",
   "execution_count": 16,
   "metadata": {},
   "outputs": [
    {
     "ename": "KeyError",
     "evalue": "'eat'",
     "output_type": "error",
     "traceback": [
      "\u001b[0;31m---------------------------------------------------------------------------\u001b[0m",
      "\u001b[0;31mKeyError\u001b[0m                                  Traceback (most recent call last)",
      "Cell \u001b[0;32mIn[16], line 33\u001b[0m\n\u001b[1;32m     30\u001b[0m         test1()\n\u001b[1;32m     31\u001b[0m         test2()\n\u001b[0;32m---> 33\u001b[0m tests()\n",
      "Cell \u001b[0;32mIn[16], line 30\u001b[0m, in \u001b[0;36mtests\u001b[0;34m()\u001b[0m\n\u001b[1;32m     27\u001b[0m                 \u001b[39massert\u001b[39;00m s\u001b[39m.\u001b[39mgroupAnagrams(i) \u001b[39m==\u001b[39m o\n\u001b[1;32m     29\u001b[0m test_hash()\n\u001b[0;32m---> 30\u001b[0m test1()\n\u001b[1;32m     31\u001b[0m test2()\n",
      "Cell \u001b[0;32mIn[16], line 18\u001b[0m, in \u001b[0;36mtests.<locals>.test1\u001b[0;34m()\u001b[0m\n\u001b[1;32m     16\u001b[0m s \u001b[39m=\u001b[39m Solution()\n\u001b[1;32m     17\u001b[0m \u001b[39mfor\u001b[39;00m (i, o) \u001b[39min\u001b[39;00m \u001b[39mzip\u001b[39m(inputs, outputs):\n\u001b[0;32m---> 18\u001b[0m         \u001b[39mprint\u001b[39m(\u001b[39m\"\u001b[39m\u001b[39mgot: \u001b[39m\u001b[39m\"\u001b[39m, s\u001b[39m.\u001b[39;49mgroupAnagrams(i), \u001b[39m\"\u001b[39m\u001b[39mexpected: \u001b[39m\u001b[39m\"\u001b[39m, o)\n\u001b[1;32m     19\u001b[0m         \u001b[39massert\u001b[39;00m s\u001b[39m.\u001b[39mgroupAnagrams(i) \u001b[39m==\u001b[39m o\n",
      "Cell \u001b[0;32mIn[15], line 9\u001b[0m, in \u001b[0;36mSolution.groupAnagrams\u001b[0;34m(self, strs)\u001b[0m\n\u001b[1;32m      6\u001b[0m     \u001b[39mfor\u001b[39;00m c \u001b[39min\u001b[39;00m s:\n\u001b[1;32m      7\u001b[0m         charDict[c] \u001b[39m=\u001b[39m charDict\u001b[39m.\u001b[39mget(c, \u001b[39m0\u001b[39m) \u001b[39m+\u001b[39m \u001b[39m1\u001b[39m\n\u001b[0;32m----> 9\u001b[0m     anagram_dict[s]\u001b[39m.\u001b[39mappend(charDict)\n\u001b[1;32m     11\u001b[0m \u001b[39mprint\u001b[39m(anagram_dict)\n",
      "\u001b[0;31mKeyError\u001b[0m: 'eat'"
     ]
    }
   ],
   "source": [
    "def tests():\n",
    "        def test_hash():\n",
    "                assert set(\"eat\") == set(\"tea\")\n",
    "\n",
    "        def test1():\n",
    "                inputs = [\n",
    "                        [\"eat\",\"tea\",\"tan\",\"ate\",\"nat\",\"bat\"],\n",
    "                        [\"\"],\n",
    "                        [\"a\"],\n",
    "                ]\n",
    "                outputs = [\n",
    "                        [[\"ate\",\"eat\",\"tea\"],[\"nat\",\"tan\"],[\"bat\"]],\n",
    "                        [[\"\"]],\n",
    "                        [[\"a\"]],\n",
    "                ]\n",
    "                s = Solution()\n",
    "                for (i, o) in zip(inputs, outputs):\n",
    "                        print(\"got: \", s.groupAnagrams(i), \"expected: \", o)\n",
    "                        assert s.groupAnagrams(i) == o\n",
    "        \n",
    "        def test2():\n",
    "                inputs = [\"\"]\n",
    "                outputs = [[\"\"]]\n",
    "                s = Solution()\n",
    "                for (i, o) in zip(inputs, outputs):\n",
    "                        print(\"got: \", s.groupAnagrams(i), \"expected: \", o)\n",
    "                        assert s.groupAnagrams(i) == o\n",
    "\n",
    "        test_hash()\n",
    "        test1()\n",
    "        test2()\n",
    "\n",
    "tests()"
   ]
  }
 ],
 "metadata": {
  "kernelspec": {
   "display_name": ".venv",
   "language": "python",
   "name": "python3"
  },
  "language_info": {
   "codemirror_mode": {
    "name": "ipython",
    "version": 3
   },
   "file_extension": ".py",
   "mimetype": "text/x-python",
   "name": "python",
   "nbconvert_exporter": "python",
   "pygments_lexer": "ipython3",
   "version": "3.9.12"
  },
  "orig_nbformat": 4,
  "vscode": {
   "interpreter": {
    "hash": "20d03d0deabe33e208bf149ae7362af715c6a66d357124630998fad5e540e0cd"
   }
  }
 },
 "nbformat": 4,
 "nbformat_minor": 2
}
